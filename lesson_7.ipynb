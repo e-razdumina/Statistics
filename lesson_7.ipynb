{
 "cells": [
  {
   "cell_type": "markdown",
   "metadata": {},
   "source": [
    "# Lesson 7"
   ]
  },
  {
   "cell_type": "code",
   "execution_count": 1,
   "metadata": {},
   "outputs": [],
   "source": [
    "import numpy as np"
   ]
  },
  {
   "cell_type": "markdown",
   "metadata": {},
   "source": [
    "# 1"
   ]
  },
  {
   "cell_type": "markdown",
   "metadata": {},
   "source": [
    "Даны значения величины заработной платы заемщиков банка (zp) и значения их поведенческого кредитного скоринга (ks): zp = [35, 45, 190, 200, 40, 70, 54, 150, 120, 110], ks = [401, 574, 874, 919, 459, 739, 653, 902, 746, 832]. Используя математические операции, посчитать коэффициенты линейной регрессии, приняв за X заработную плату (то есть, zp - признак), а за y - значения скорингового балла (то есть, ks - целевая переменная). Произвести расчет как с использованием intercept, так и без."
   ]
  },
  {
   "cell_type": "code",
   "execution_count": 2,
   "metadata": {},
   "outputs": [],
   "source": [
    "# я не совсем поняла про использование intercept и повторила все методы, которые мы рассмотрели на лекции. \n",
    "# что подразумевалось в задании?"
   ]
  },
  {
   "cell_type": "code",
   "execution_count": 3,
   "metadata": {},
   "outputs": [],
   "source": [
    "zp = np.array([35, 45, 190, 200, 40, 70, 54, 150, 120, 110])\n",
    "ks= np.array([401, 574, 874, 919, 459, 739, 653, 902, 746, 832])\n",
    "\n",
    "# количество наблюдений\n",
    "n = len(zp)"
   ]
  },
  {
   "cell_type": "code",
   "execution_count": 4,
   "metadata": {},
   "outputs": [
    {
     "data": {
      "text/plain": [
       "2.620538882402765"
      ]
     },
     "execution_count": 4,
     "metadata": {},
     "output_type": "execute_result"
    }
   ],
   "source": [
    "b_1 = (np.mean(zp * ks) - np.mean(zp) * np.mean(ks)) / (np.mean(zp**2) - np.mean(zp) ** 2)\n",
    "b_1"
   ]
  },
  {
   "cell_type": "code",
   "execution_count": 5,
   "metadata": {},
   "outputs": [
    {
     "data": {
      "text/plain": [
       "444.1773573243596"
      ]
     },
     "execution_count": 5,
     "metadata": {},
     "output_type": "execute_result"
    }
   ],
   "source": [
    "a_1 = np.mean(ks) - b_1 * np.mean(zp)\n",
    "a_1"
   ]
  },
  {
   "cell_type": "code",
   "execution_count": 6,
   "metadata": {},
   "outputs": [
    {
     "data": {
      "text/plain": [
       "2.6205388824027653"
      ]
     },
     "execution_count": 6,
     "metadata": {},
     "output_type": "execute_result"
    }
   ],
   "source": [
    "b_2 = (n*(np.sum(zp*ks)) - (np.sum(zp)*np.sum(ks)))/(n*(np.sum(zp**2))-((np.sum(zp)**2)))\n",
    "b_2"
   ]
  },
  {
   "cell_type": "code",
   "execution_count": 7,
   "metadata": {},
   "outputs": [
    {
     "data": {
      "text/plain": [
       "444.17735732435955"
      ]
     },
     "execution_count": 7,
     "metadata": {},
     "output_type": "execute_result"
    }
   ],
   "source": [
    "a_2 = np.mean(ks) - b_2*np.mean(zp)\n",
    "a_2"
   ]
  },
  {
   "cell_type": "code",
   "execution_count": 8,
   "metadata": {},
   "outputs": [],
   "source": [
    "X = zp.reshape((10,1))\n",
    "y = ks.reshape((10,1))"
   ]
  },
  {
   "cell_type": "code",
   "execution_count": 9,
   "metadata": {},
   "outputs": [
    {
     "data": {
      "text/plain": [
       "array([[5.88982042]])"
      ]
     },
     "execution_count": 9,
     "metadata": {},
     "output_type": "execute_result"
    }
   ],
   "source": [
    "B = np.dot(np.linalg.inv(np.dot(X.T,X)),X.T@y)\n",
    "B"
   ]
  },
  {
   "cell_type": "markdown",
   "metadata": {},
   "source": [
    "# 2"
   ]
  },
  {
   "cell_type": "markdown",
   "metadata": {},
   "source": [
    "Посчитать коэффициент линейной регрессии при заработной плате (zp), используя градиентный спуск (без intercept)."
   ]
  },
  {
   "cell_type": "code",
   "execution_count": 10,
   "metadata": {},
   "outputs": [
    {
     "data": {
      "text/plain": [
       "array([ 35,  45, 190, 200,  40,  70,  54, 150, 120, 110])"
      ]
     },
     "execution_count": 10,
     "metadata": {},
     "output_type": "execute_result"
    }
   ],
   "source": [
    "X = np.array([35, 45, 190, 200, 40, 70, 54, 150, 120, 110])\n",
    "X"
   ]
  },
  {
   "cell_type": "code",
   "execution_count": 11,
   "metadata": {},
   "outputs": [
    {
     "data": {
      "text/plain": [
       "array([401, 574, 874, 919, 459, 739, 653, 902, 746, 832])"
      ]
     },
     "execution_count": 11,
     "metadata": {},
     "output_type": "execute_result"
    }
   ],
   "source": [
    "y = np.array([401, 574, 874, 919, 459, 739, 653, 902, 746, 832])\n",
    "y"
   ]
  },
  {
   "cell_type": "code",
   "execution_count": 12,
   "metadata": {},
   "outputs": [],
   "source": [
    "def mse_(B1,y=y,X=X,n=10):\n",
    "    return np.sum((B1*X-y)**2)/n"
   ]
  },
  {
   "cell_type": "code",
   "execution_count": 13,
   "metadata": {},
   "outputs": [
    {
     "data": {
      "text/plain": [
       "1e-06"
      ]
     },
     "execution_count": 13,
     "metadata": {},
     "output_type": "execute_result"
    }
   ],
   "source": [
    "alpha = 1e-6\n",
    "alpha"
   ]
  },
  {
   "cell_type": "code",
   "execution_count": 14,
   "metadata": {},
   "outputs": [],
   "source": [
    "B1 = 1"
   ]
  },
  {
   "cell_type": "code",
   "execution_count": 15,
   "metadata": {},
   "outputs": [],
   "source": [
    "n = 5"
   ]
  },
  {
   "cell_type": "code",
   "execution_count": 16,
   "metadata": {},
   "outputs": [
    {
     "name": "stdout",
     "output_type": "stream",
     "text": [
      "B1=1.2694604\n",
      "B1=1.52407180741344\n",
      "B1=1.764652496765392\n",
      "B1=1.9919756504176396\n",
      "B1=2.206771843435465\n",
      "B1=2.4097313915223726\n",
      "B1=2.601506569568584\n",
      "B1=2.7827137079433095\n",
      "B1=2.9539351732679022\n",
      "B1=3.115721240035732\n"
     ]
    }
   ],
   "source": [
    "for i in range (10):\n",
    "    B1 -=alpha*(2/n)*np.sum((B1*X-y)*X)\n",
    "    print(f'B1={B1}')"
   ]
  },
  {
   "cell_type": "code",
   "execution_count": 17,
   "metadata": {},
   "outputs": [
    {
     "name": "stdout",
     "output_type": "stream",
     "text": [
      "Iteration: 0, B1 = 3.268591859093827, mse = 151173.6613142009\n",
      "Iteration: 1000, B1 = 5.889820420132681, mse = 56516.85841571941\n",
      "Iteration: 2000, B1 = 5.889820420132681, mse = 56516.85841571941\n",
      "Iteration: 3000, B1 = 5.889820420132681, mse = 56516.85841571941\n",
      "Iteration: 4000, B1 = 5.889820420132681, mse = 56516.85841571941\n",
      "Iteration: 5000, B1 = 5.889820420132681, mse = 56516.85841571941\n",
      "Iteration: 6000, B1 = 5.889820420132681, mse = 56516.85841571941\n",
      "Iteration: 7000, B1 = 5.889820420132681, mse = 56516.85841571941\n",
      "Iteration: 8000, B1 = 5.889820420132681, mse = 56516.85841571941\n",
      "Iteration: 9000, B1 = 5.889820420132681, mse = 56516.85841571941\n"
     ]
    }
   ],
   "source": [
    "for i in range (10000):\n",
    "    B1 -=alpha*(2/n)*np.sum((B1*X-y)*X)\n",
    "    if i%1000==0:\n",
    "        print(f'Iteration: {i}, B1 = {B1}, mse = {mse_(B1)}')"
   ]
  },
  {
   "cell_type": "markdown",
   "metadata": {},
   "source": [
    "## 3"
   ]
  },
  {
   "cell_type": "markdown",
   "metadata": {},
   "source": [
    "В каких случаях для вычисления доверительных интервалов и проверки статистических гипотез используется таблица значений функции Лапласа, а в каких - таблица критических точек распределения Стьюдента? "
   ]
  },
  {
   "cell_type": "markdown",
   "metadata": {},
   "source": [
    "Критерий Лапласа используется, если известна дисперсия генеральной совокупности, если нет - таблица критических точек распределения Стьюдента"
   ]
  },
  {
   "cell_type": "markdown",
   "metadata": {},
   "source": [
    "# 4"
   ]
  },
  {
   "cell_type": "code",
   "execution_count": 18,
   "metadata": {},
   "outputs": [],
   "source": [
    "B1 = 0.1\n",
    "B0 = 0.1"
   ]
  },
  {
   "cell_type": "code",
   "execution_count": 19,
   "metadata": {},
   "outputs": [],
   "source": [
    "def mse_(B0,B1,y=y,X=X,n=10):\n",
    "    return np.sum((B0+B1*X-y)**2)/n"
   ]
  },
  {
   "cell_type": "code",
   "execution_count": 22,
   "metadata": {},
   "outputs": [
    {
     "name": "stdout",
     "output_type": "stream",
     "text": [
      "Iteration: 0, B0= 431.4368859638349, B1 = 2.7143143845021864, mse = 6511.588990614024\n",
      "Iteration: 500000, B0= 436.5060959794563, B1 = 2.677002757560722, mse = 6485.341937393006\n",
      "Iteration: 1000000, B0= 439.5583562720048, B1 = 2.6545367723257716, mse = 6475.8261853443855\n",
      "Iteration: 1500000, B0= 441.39617574775053, B1 = 2.641009608437617, mse = 6472.376291892066\n",
      "Iteration: 2000000, B0= 442.5027590996847, B1 = 2.632864665718778, mse = 6471.125548412006\n",
      "Iteration: 2500000, B0= 443.1690523515301, B1 = 2.6279604528000267, mse = 6470.6720969432745\n",
      "Iteration: 3000000, B0= 443.57023920892993, B1 = 2.6250075401546655, mse = 6470.507700136293\n",
      "Iteration: 3500000, B0= 443.81180085483965, B1 = 2.6232295396402314, mse = 6470.448098807338\n",
      "Iteration: 4000000, B0= 443.9572493601554, B1 = 2.622158974334629, mse = 6470.426490611436\n",
      "Iteration: 4500000, B0= 444.0448264571904, B1 = 2.621514368180393, mse = 6470.418656656411\n",
      "Iteration: 5000000, B0= 444.09755816391225, B1 = 2.6211262395048935, mse = 6470.415816490965\n",
      "Iteration: 5500000, B0= 444.12930884973946, B1 = 2.6208925404194203, mse = 6470.4147868016535\n",
      "Iteration: 6000000, B0= 444.148426494759, B1 = 2.62075182609968, mse = 6470.41441349239\n",
      "Iteration: 6500000, B0= 444.1599375642558, B1 = 2.6206670995388475, mse = 6470.414278150778\n",
      "Iteration: 7000000, B0= 444.1668685811533, B1 = 2.6206160841901034, mse = 6470.41422908328\n",
      "Iteration: 7500000, B0= 444.1710418680455, B1 = 2.620585366953461, mse = 6470.414211294081\n",
      "Iteration: 8000000, B0= 444.1735546773062, B1 = 2.6205668715663255, mse = 6470.4142048446865\n",
      "Iteration: 8500000, B0= 444.1750676838497, B1 = 2.6205557351692264, mse = 6470.414202506487\n",
      "Iteration: 9000000, B0= 444.17597869163615, B1 = 2.620549029749138, mse = 6470.414201658784\n",
      "Iteration: 9500000, B0= 444.1765272254085, B1 = 2.6205449922980555, mse = 6470.414201351452\n"
     ]
    }
   ],
   "source": [
    "for i in range (10000000):\n",
    "    y_pred = B0 + B1*X\n",
    "    B0 -= alpha*(2/n)*np.sum((y_pred - y))\n",
    "    B1 -= alpha*(2/n)*np.sum((y_pred - y)*X)\n",
    "    if i%500000==0:\n",
    "        print(f'Iteration: {i}, B0= {B0}, B1 = {B1}, mse = {mse_(B0,B1)}')                    "
   ]
  },
  {
   "cell_type": "code",
   "execution_count": null,
   "metadata": {},
   "outputs": [],
   "source": []
  },
  {
   "cell_type": "code",
   "execution_count": null,
   "metadata": {},
   "outputs": [],
   "source": []
  },
  {
   "cell_type": "code",
   "execution_count": null,
   "metadata": {},
   "outputs": [],
   "source": []
  }
 ],
 "metadata": {
  "kernelspec": {
   "display_name": "Python 3",
   "language": "python",
   "name": "python3"
  },
  "language_info": {
   "codemirror_mode": {
    "name": "ipython",
    "version": 3
   },
   "file_extension": ".py",
   "mimetype": "text/x-python",
   "name": "python",
   "nbconvert_exporter": "python",
   "pygments_lexer": "ipython3",
   "version": "3.7.4"
  }
 },
 "nbformat": 4,
 "nbformat_minor": 2
}
